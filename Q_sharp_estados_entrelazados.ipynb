{
 "cells": [
  {
   "cell_type": "markdown",
   "metadata": {},
   "source": [
    "# Estado entrelazado\n",
    "\n",
    "\n",
    "\n",
    "![estado entrelazado.png](qh_entrelazamiento4.png.png)"
   ]
  },
  {
   "cell_type": "markdown",
   "metadata": {},
   "source": [
    "# Programa QDK (Q#)\n",
    "Usando Q#  para el estado entrelazado"
   ]
  },
  {
   "cell_type": "code",
   "execution_count": 7,
   "metadata": {},
   "outputs": [
    {
     "name": "stdout",
     "output_type": "stream",
     "text": [
      "/snippet:(1,90): warning QS6003: The namespace is already open.\n",
      "/snippet:(2,6): warning QS6003: The namespace is already open.\n"
     ]
    },
    {
     "data": {
      "application/json": "[\"SetQubitState\",\"TestBellState\"]",
      "text/html": [
       "<ul><li>SetQubitState</li><li>TestBellState</li></ul>"
      ],
      "text/plain": [
       "SetQubitState, TestBellState"
      ]
     },
     "execution_count": 7,
     "metadata": {},
     "output_type": "execute_result"
    }
   ],
   "source": [
    "open Microsoft.Quantum.Canon;\n",
    "open Microsoft.Quantum.Intrinsic;\n",
    "\n",
    "operation SetQubitState(desired : Result, target : Qubit) : Unit {\n",
    "    if (desired != M(target)) { // se cambia el qubit  target qubit si el qubit de control es diferente\n",
    "    }\n",
    "}\n",
    "\n",
    "@EntryPoint()\n",
    "operation TestBellState(count : Int, initial : Result) : (Int, Int) { // generar el estado entrelazado\n",
    "    mutable numOnes = 0;  // variable para el contador  \n",
    "    using (qubit = Qubit()) {  // qubit target\n",
    "\n",
    "    for (test in 1..count) { // for desde 1 a 1000\n",
    "        SetQubitState(initial, qubit); \n",
    "        H(qubit); // superposicion del qubit\n",
    "        let res = M(qubit); // medir el resultado del qubit target\n",
    "\n",
    "        // contar los 1 o zeros\n",
    "         if (res == One) {\n",
    "               set numOnes += 1;\n",
    "                }\n",
    "            }\n",
    "\n",
    "            SetQubitState(Zero, qubit);\n",
    "        }\n",
    "\n",
    "    return (count - numOnes, numOnes); \n",
    "    }"
   ]
  },
  {
   "cell_type": "code",
   "execution_count": 8,
   "metadata": {},
   "outputs": [
    {
     "data": {
      "application/json": "[\"BellState\"]",
      "text/html": [
       "<ul><li>BellState</li></ul>"
      ],
      "text/plain": [
       "BellState"
      ]
     },
     "execution_count": 8,
     "metadata": {},
     "output_type": "execute_result"
    }
   ],
   "source": [
    "operation BellState(): Unit{\n",
    "    let (nZero,nOne) = TestBellState(1000,Zero); // se inicia le qubit de control en  Zero\n",
    "    Message($\"Probablity of obtain the state |00> :{nZero} \");// print results\n",
    "    Message($\"Probablity of obtain the state |11> :{nOne} \");\n",
    "\n",
    "}"
   ]
  },
  {
   "cell_type": "code",
   "execution_count": 10,
   "metadata": {},
   "outputs": [
    {
     "name": "stdout",
     "output_type": "stream",
     "text": [
      "Probablity of obtain the state |00> :497 \n",
      "Probablity of obtain the state |11> :503 \n"
     ]
    },
    {
     "data": {
      "application/json": "{\"@type\":\"tuple\"}",
      "text/plain": [
       "()"
      ]
     },
     "execution_count": 10,
     "metadata": {},
     "output_type": "execute_result"
    }
   ],
   "source": [
    "%simulate BellState"
   ]
  },
  {
   "cell_type": "code",
   "execution_count": null,
   "metadata": {},
   "outputs": [],
   "source": []
  }
 ],
 "metadata": {
  "kernelspec": {
   "display_name": "Q#",
   "language": "qsharp",
   "name": "iqsharp"
  },
  "language_info": {
   "file_extension": ".qs",
   "mimetype": "text/x-qsharp",
   "name": "qsharp",
   "version": "0.4"
  }
 },
 "nbformat": 4,
 "nbformat_minor": 4
}
